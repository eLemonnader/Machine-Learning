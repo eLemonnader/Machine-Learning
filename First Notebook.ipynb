{
 "cells": [
  {
   "cell_type": "markdown",
   "metadata": {},
   "source": [
    "# First Jupyter Notebook"
   ]
  },
  {
   "cell_type": "markdown",
   "metadata": {},
   "source": [
    "This is a test of my first Jupyter Notebook."
   ]
  },
  {
   "cell_type": "markdown",
   "metadata": {},
   "source": [
    "<h1>Hunter Reilly: Markdown Test<br /></h1>\n",
    "<p>I hope this doesn't look too weird...</p>\n",
    ">Simple program that takes an array and prints it out,\n",
    ">\n",
    ">**iterating** each element by one when it _prints_.\n",
    "\n",
    "+ Item 1\n",
    "+ Item 2\n",
    "+ Item 3\n",
    "\n",
    "Link to my [GitHub](https://github.com/eLemonnader)"
   ]
  },
  {
   "cell_type": "code",
   "execution_count": 1,
   "metadata": {},
   "outputs": [
    {
     "name": "stdout",
     "output_type": "stream",
     "text": [
      "hello world\n"
     ]
    }
   ],
   "source": [
    "import pandas as pd\n",
    "import numpy as np\n",
    "\n",
    "print (\"hello world\")"
   ]
  },
  {
   "cell_type": "code",
   "execution_count": 2,
   "metadata": {},
   "outputs": [
    {
     "name": "stdout",
     "output_type": "stream",
     "text": [
      "1. Run Program\n",
      "2. Quit\n",
      ">1\n",
      "3\n",
      "5\n",
      "7\n",
      "9\n",
      "11\n",
      "13\n",
      "1. Run Program\n",
      "2. Quit\n",
      ">2\n"
     ]
    }
   ],
   "source": [
    "import sys\n",
    "\n",
    "def iterateAndPrintArray(mylist, size):\n",
    "    i = 0\n",
    "    while i < size:\n",
    "        print (mylist[i] + 1)\n",
    "        i = i + 1\n",
    "       \n",
    "running = True\n",
    "list1 = [2, 4, 6, 8, 10, 12]\n",
    "while running == True:\n",
    "    UIhandler = input(\"1. Run Program\\n2. Quit\\n>\")\n",
    "    if UIhandler == \"1\":\n",
    "        iterateAndPrintArray(list1, 6)\n",
    "    elif UIhandler == \"2\":\n",
    "        running = False\n",
    "    else :\n",
    "\t    print (\"\\nERROR\\n\")"
   ]
  },
  {
   "cell_type": "markdown",
   "metadata": {},
   "source": [
    "# Sample User Input\n",
    "\n",
    "In this next block, enter your name."
   ]
  },
  {
   "cell_type": "code",
   "execution_count": 3,
   "metadata": {},
   "outputs": [
    {
     "name": "stdout",
     "output_type": "stream",
     "text": [
      "Enter your name: Hunter\n",
      "Your name is Hunter\n"
     ]
    }
   ],
   "source": [
    "import sys\n",
    "\n",
    "userInput = input(\"Enter your name: \");\n",
    "print (\"Your name is\", userInput)"
   ]
  }
 ],
 "metadata": {
  "kernelspec": {
   "display_name": "Python 3",
   "language": "python",
   "name": "python3"
  },
  "language_info": {
   "codemirror_mode": {
    "name": "ipython",
    "version": 3
   },
   "file_extension": ".py",
   "mimetype": "text/x-python",
   "name": "python",
   "nbconvert_exporter": "python",
   "pygments_lexer": "ipython3",
   "version": "3.5.1"
  }
 },
 "nbformat": 4,
 "nbformat_minor": 2
}
