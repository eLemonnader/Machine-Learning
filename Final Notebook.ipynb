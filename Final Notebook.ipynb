{
 "cells": [
  {
   "cell_type": "markdown",
   "metadata": {},
   "source": [
    "<h1>Hunter Reilly: Final Jupyter Notebook<br /></h1>\n",
    "CSCI 191T: Machine Learning, Dr. Ruby<br />\n",
    "13th of May, 2018<br />"
   ]
  },
  {
   "cell_type": "markdown",
   "metadata": {},
   "source": [
    "# Machine Learning w/ Kaggle"
   ]
  },
  {
   "cell_type": "markdown",
   "metadata": {},
   "source": [
    "### Machine Learning with Titanic\n",
    "For this assignment, I was able to get a good understanding of the basic machine learning principles. I especially liked that it was something interesting and historical. The first Jupyter notebook I did was based on housing market predictions, and although it was informative, it was not particularly interesting. The Titanic dataset, and kernels, provided a great introductory into importing data, visualizing and understanding the data, training the data, and then finally running the data through a model. It also let us really get our feet wet in regards to using Jupyter notebooks, along with installing new libraries, plug-ins, etc."
   ]
  },
  {
   "cell_type": "markdown",
   "metadata": {},
   "source": [
    "### Machine Learning with MNIST\n",
    "This assignment was a good introduction to neural networks, using CNN and Keras. Many of the digit recognition kernals used CNN. I thought this assignment was helpful for understanding some practical applications for neural networks and machine learning. Like the Titanic data, we also had to train this data and make adjustments for null and/or missing data values. It was also interesting because we had to manipulate the images as well, adjusting sizes and color scale. I did find the model confusing, but I think I grasped it by the time I finished the assignment. I was also surprised by how much longer it took to actually run the model over the data, compared to that of the Titanic dataset and model."
   ]
  },
  {
   "cell_type": "markdown",
   "metadata": {},
   "source": [
    "# Jupyter Notebooks\n",
    "I have to say, the Jupyter notebook interface and utility is something I hope to see used more in the future. Once I figured out how to use it properly, it was a great way to do assignments and present them in a clean and organized fashion. My only criticism is that the initial setup was somewhat complicated and not exactly user friendly, but I would assume that greatly depends on the method one uses to set up the notebooks."
   ]
  }
 ],
 "metadata": {
  "kernelspec": {
   "display_name": "Python 3",
   "language": "python",
   "name": "python3"
  },
  "language_info": {
   "codemirror_mode": {
    "name": "ipython",
    "version": 3
   },
   "file_extension": ".py",
   "mimetype": "text/x-python",
   "name": "python",
   "nbconvert_exporter": "python",
   "pygments_lexer": "ipython3",
   "version": "3.5.4"
  }
 },
 "nbformat": 4,
 "nbformat_minor": 2
}
